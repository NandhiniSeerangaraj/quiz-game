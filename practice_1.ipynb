{
 "cells": [
  {
   "cell_type": "code",
   "execution_count": 6,
   "metadata": {},
   "outputs": [
    {
     "name": "stdout",
     "output_type": "stream",
     "text": [
      "Welcome to learn quiz game\n",
      "OK,Let's play\n",
      "correct\n",
      "Correct\n",
      "Correct\n",
      "Correct\n",
      "Correct\n",
      "Your score is 5\n"
     ]
    }
   ],
   "source": [
    "#Project1\n",
    "print(\"Welcome to learn quiz game\")\n",
    "player = input(\"do you want to play?\")\n",
    "\n",
    "if player.lower() != \"yes\":\n",
    "    quit()\n",
    "else:\n",
    "    print(\"OK,Let's play\")\n",
    "    \n",
    "score=0\n",
    "question = input(\"How many days do we have in a week\")\n",
    "if question.lower()== \"seven\":\n",
    "    print(\"correct\")\n",
    "    score+=1\n",
    "else:\n",
    "    print(\"Incorrect\")\n",
    "    \n",
    "question = input(\"In which direction does the sun rise\")\n",
    "if question.lower()== \"east\":\n",
    "    print(\"Correct\")\n",
    "    score+=1\n",
    "else:\n",
    "    print(\"Incorrect\")\n",
    "    \n",
    "    \n",
    "question = input(\"What is our national bird?\")\n",
    "if question.lower() == \"peacock\":\n",
    "    print(\"Correct\")\n",
    "    score+=1\n",
    "else:\n",
    "    print(\"Incorrect\")\n",
    "\n",
    "    \n",
    "question = input(\"Which is the fastest animal on the land?\")\n",
    "if question.lower() == \"cheetah\":\n",
    "    print(\"Correct\")\n",
    "    score+=1\n",
    "else:\n",
    "    print(\"Incorrect\")\n",
    "    \n",
    "question = input(\"Which is the largest ocean in the world?\")\n",
    "if question.lower() == \"pacific ocean\":\n",
    "    print(\"Correct\")\n",
    "    score+=1\n",
    "else:\n",
    "    print(\"Incorrect\")\n",
    "\n",
    "print(\"Your score is\",str(score))\n"
   ]
  }
 ],
 "metadata": {
  "kernelspec": {
   "display_name": "Python 3",
   "language": "python",
   "name": "python3"
  },
  "language_info": {
   "codemirror_mode": {
    "name": "ipython",
    "version": 3
   },
   "file_extension": ".py",
   "mimetype": "text/x-python",
   "name": "python",
   "nbconvert_exporter": "python",
   "pygments_lexer": "ipython3",
   "version": "3.10.0"
  }
 },
 "nbformat": 4,
 "nbformat_minor": 2
}
